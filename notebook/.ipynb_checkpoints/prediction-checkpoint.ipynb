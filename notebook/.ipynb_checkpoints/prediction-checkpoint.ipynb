{
 "cells": [
  {
   "cell_type": "code",
   "execution_count": 1,
   "metadata": {},
   "outputs": [],
   "source": [
    "import cv2\n",
    "import numpy as np\n",
    "import dlib\n",
    "import os\n",
    "from statistics import mode\n",
    "import pickle\n",
    "face_desc,face_name = pickle.load(open('trainset.pk','rb'))"
   ]
  },
  {
   "cell_type": "code",
   "execution_count": 77,
   "metadata": {},
   "outputs": [],
   "source": [
    "shape = dlib.shape_predictor('../shape_predictor_68_face_landmarks.dat')\n",
    "detector = dlib.get_frontal_face_detector()\n",
    "face_rec = dlib.face_recognition_model_v1('../dlib_face_recognition_resnet_model_v1.dat')\n",
    "pic = cv2.imread('C:/Users/n_int/Documents/blackpink/unnknown4.jpg')\n",
    "# pic = cv2.cvtColor(pic,cv2.COLOR_BGR2RGB)\n",
    "# dets = detector(pic,1)\n",
    "classifier = cv2.CascadeClassifier('haarcascade_frontalface_default.xml')\n",
    "boxes = classifier.detectMultiScale(pic,1.3,3)\n",
    "for box in boxes:\n",
    "    x,y,w,h = box\n",
    "    face = pic[y-10:y+h+10,x-10:x+w+10]\n",
    "    det = detector(face,1)\n",
    "    for k,d in enumerate(det):\n",
    "        sp = shape(face,d)\n",
    "        face_ans = face_rec.compute_face_descriptor(face,sp,10)\n",
    "        face_diff = []\n",
    "        for bp in face_desc:\n",
    "            face_diff.append(np.linalg.norm(np.array(face_ans)-np.array(bp)))\n",
    "        idx = np.argmin(face_diff)\n",
    "        if face_diff[idx] < 0.4:\n",
    "            cv2.putText(pic,face_name[idx],(x,y),cv2.FONT_HERSHEY_COMPLEX,.7,(255,255,45),1)\n",
    "            cv2.rectangle(pic,(x,y),(x+w,y+h),(35,150,250),2)\n",
    "    \n",
    "#     cv2.rectangle(pic,(x,y),(x+w,y+h),(200,150,111),2)\n",
    "#     cv2.text\n",
    "# # ans = []\n",
    "# for k,d in enumerate(dets):\n",
    "#     sp = shape(pic,d)\n",
    "#     face_ans = face_rec.compute_face_descriptor(pic,sp,10)\n",
    "# for bp in face_desc:\n",
    "#     ans.append(np.linalg.norm(np.array(face_ans)-np.array(bp)))\n",
    "# idx = np.argmin(ans)\n",
    "# if ans[idx]<0.35:\n",
    "    \n",
    "#     print(f'she is {face_name[idx]} with {ans[idx]} accurancy')\n",
    "# else:\n",
    "#     print(\"she isn't in blackpink\")"
   ]
  },
  {
   "cell_type": "code",
   "execution_count": 78,
   "metadata": {},
   "outputs": [],
   "source": [
    "cv2.imshow('pic',pic)\n",
    "cv2.waitKey(0)\n",
    "cv2.destroyAllWindows()"
   ]
  },
  {
   "cell_type": "code",
   "execution_count": 42,
   "metadata": {},
   "outputs": [],
   "source": [
    "fc = pic[21-10:21+79+10,328-10:328+79+10]"
   ]
  },
  {
   "cell_type": "code",
   "execution_count": 34,
   "metadata": {},
   "outputs": [
    {
     "name": "stdout",
     "output_type": "stream",
     "text": [
      "[[328  21  79  79]]\n"
     ]
    }
   ],
   "source": [
    "print(boxes)"
   ]
  },
  {
   "cell_type": "code",
   "execution_count": 51,
   "metadata": {},
   "outputs": [
    {
     "data": {
      "text/plain": [
       "0.27844050312522867"
      ]
     },
     "execution_count": 51,
     "metadata": {},
     "output_type": "execute_result"
    }
   ],
   "source": [
    "face_diff[idx]"
   ]
  },
  {
   "cell_type": "code",
   "execution_count": null,
   "metadata": {},
   "outputs": [],
   "source": []
  }
 ],
 "metadata": {
  "kernelspec": {
   "display_name": "Python 3",
   "language": "python",
   "name": "python3"
  },
  "language_info": {
   "codemirror_mode": {
    "name": "ipython",
    "version": 3
   },
   "file_extension": ".py",
   "mimetype": "text/x-python",
   "name": "python",
   "nbconvert_exporter": "python",
   "pygments_lexer": "ipython3",
   "version": "3.7.3"
  }
 },
 "nbformat": 4,
 "nbformat_minor": 2
}
