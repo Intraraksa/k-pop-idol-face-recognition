{
 "cells": [
  {
   "cell_type": "code",
   "execution_count": 1,
   "metadata": {},
   "outputs": [],
   "source": [
    "import cv2\n",
    "import numpy as np\n",
    "import dlib\n",
    "import pickle\n",
    "import time"
   ]
  },
  {
   "cell_type": "code",
   "execution_count": 2,
   "metadata": {},
   "outputs": [],
   "source": [
    "detector = dlib.get_frontal_face_detector()\n",
    "shape = dlib.shape_predictor('C:/Users/n_int/Documents/blackpink/shape_predictor_68_face_landmarks.dat')\n",
    "facerec = dlib.face_recognition_model_v1('C:/Users/n_int/Documents/blackpink/dlib_face_recognition_resnet_model_v1.dat')\n",
    "desc_ans,desc_names = pickle.load(open('trainset.pk','rb'))\n",
    "classifier = cv2.CascadeClassifier('haarcascade_frontalface_default.xml')\n",
    "# boxes = classifier.detectMultiScale(pic,1.3,3)"
   ]
  },
  {
   "cell_type": "code",
   "execution_count": 3,
   "metadata": {},
   "outputs": [],
   "source": [
    "video = cv2.VideoCapture('C:/Users/n_int/Documents/blackpink/BLACKPINK - Lovesick Girls DANCE PRACTICE VIDEO.mp4')\n",
    "fps= int(video.get(cv2.CAP_PROP_FPS))"
   ]
  },
  {
   "cell_type": "code",
   "execution_count": 4,
   "metadata": {},
   "outputs": [
    {
     "ename": "NameError",
     "evalue": "name 'face_rec' is not defined",
     "output_type": "error",
     "traceback": [
      "\u001b[1;31m---------------------------------------------------------------------------\u001b[0m",
      "\u001b[1;31mNameError\u001b[0m                                 Traceback (most recent call last)",
      "\u001b[1;32m<ipython-input-4-97ce17b35f73>\u001b[0m in \u001b[0;36m<module>\u001b[1;34m\u001b[0m\n\u001b[0;32m      8\u001b[0m         \u001b[1;32mfor\u001b[0m \u001b[0mk\u001b[0m\u001b[1;33m,\u001b[0m\u001b[0md\u001b[0m \u001b[1;32min\u001b[0m \u001b[0menumerate\u001b[0m\u001b[1;33m(\u001b[0m\u001b[0mdet\u001b[0m\u001b[1;33m)\u001b[0m\u001b[1;33m:\u001b[0m\u001b[1;33m\u001b[0m\u001b[1;33m\u001b[0m\u001b[0m\n\u001b[0;32m      9\u001b[0m             \u001b[0msp\u001b[0m \u001b[1;33m=\u001b[0m \u001b[0mshape\u001b[0m\u001b[1;33m(\u001b[0m\u001b[0mface\u001b[0m\u001b[1;33m,\u001b[0m\u001b[0md\u001b[0m\u001b[1;33m)\u001b[0m\u001b[1;33m\u001b[0m\u001b[1;33m\u001b[0m\u001b[0m\n\u001b[1;32m---> 10\u001b[1;33m             \u001b[0mface_ans\u001b[0m \u001b[1;33m=\u001b[0m \u001b[0mface_rec\u001b[0m\u001b[1;33m.\u001b[0m\u001b[0mcompute_face_descriptor\u001b[0m\u001b[1;33m(\u001b[0m\u001b[0mface\u001b[0m\u001b[1;33m,\u001b[0m\u001b[0msp\u001b[0m\u001b[1;33m,\u001b[0m\u001b[1;36m10\u001b[0m\u001b[1;33m)\u001b[0m\u001b[1;33m\u001b[0m\u001b[1;33m\u001b[0m\u001b[0m\n\u001b[0m\u001b[0;32m     11\u001b[0m             \u001b[0mface_diff\u001b[0m \u001b[1;33m=\u001b[0m \u001b[1;33m[\u001b[0m\u001b[1;33m]\u001b[0m\u001b[1;33m\u001b[0m\u001b[1;33m\u001b[0m\u001b[0m\n\u001b[0;32m     12\u001b[0m             \u001b[1;32mfor\u001b[0m \u001b[0mbp\u001b[0m \u001b[1;32min\u001b[0m \u001b[0mdesc_ans\u001b[0m\u001b[1;33m:\u001b[0m\u001b[1;33m\u001b[0m\u001b[1;33m\u001b[0m\u001b[0m\n",
      "\u001b[1;31mNameError\u001b[0m: name 'face_rec' is not defined"
     ]
    }
   ],
   "source": [
    "while video.isOpened():\n",
    "    ret,frame = video.read()\n",
    "    boxes = classifier.detectMultiScale(frame,1.3,3)\n",
    "    for box in boxes:\n",
    "        x,y,w,h = box\n",
    "        face = frame[y-10:y+h+10,x-10:x+w+10]\n",
    "        det = detector(face,1)\n",
    "        for k,d in enumerate(det):\n",
    "            sp = shape(face,d)\n",
    "            face_ans = facerec.compute_face_descriptor(face,sp,10)\n",
    "            face_diff = []\n",
    "            for bp in desc_ans:\n",
    "                face_diff.append(np.linalg.norm(np.array(face_ans)-np.array(bp)))\n",
    "            idx = np.argmin(face_diff)\n",
    "            if face_diff[idx] < 0.4:\n",
    "                cv2.putText(frame,face_name[idx],(x,y),cv2.FONT_HERSHEY_COMPLEX,.7,(255,255,45),1)\n",
    "                cv2.rectangle(frame,(x,y),(x+w,y+h),(35,150,250),2)\n",
    "    \n",
    "    cv2.imshow('Black Pink',frame)\n",
    "    if ret == True:\n",
    "        time.sleep(1/fps)\n",
    "        cv2.imshow('Black Pink',frame)\n",
    "        if cv2.waitKey(1) & 0xFF == ord('q'):\n",
    "            break\n",
    "video.release()\n",
    "cv2.destroyAllWindows()"
   ]
  },
  {
   "cell_type": "code",
   "execution_count": null,
   "metadata": {},
   "outputs": [],
   "source": []
  }
 ],
 "metadata": {
  "kernelspec": {
   "display_name": "Python 3",
   "language": "python",
   "name": "python3"
  },
  "language_info": {
   "codemirror_mode": {
    "name": "ipython",
    "version": 3
   },
   "file_extension": ".py",
   "mimetype": "text/x-python",
   "name": "python",
   "nbconvert_exporter": "python",
   "pygments_lexer": "ipython3",
   "version": "3.7.3"
  }
 },
 "nbformat": 4,
 "nbformat_minor": 2
}
